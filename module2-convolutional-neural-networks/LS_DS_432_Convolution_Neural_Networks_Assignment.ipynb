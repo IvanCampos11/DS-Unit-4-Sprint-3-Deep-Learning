{
  "nbformat": 4,
  "nbformat_minor": 0,
  "metadata": {
    "kernelspec": {
      "display_name": "U4-S2-NNF-DS10",
      "language": "python",
      "name": "u4-s2-nnf-ds10"
    },
    "language_info": {
      "codemirror_mode": {
        "name": "ipython",
        "version": 3
      },
      "file_extension": ".py",
      "mimetype": "text/x-python",
      "name": "python",
      "nbconvert_exporter": "python",
      "pygments_lexer": "ipython3",
      "version": "3.7.6"
    },
    "nteract": {
      "version": "0.23.1"
    },
    "colab": {
      "name": "LS_DS_432_Convolution_Neural_Networks_Assignment.ipynb",
      "provenance": [],
      "include_colab_link": true
    },
    "accelerator": "GPU"
  },
  "cells": [
    {
      "cell_type": "markdown",
      "metadata": {
        "id": "view-in-github",
        "colab_type": "text"
      },
      "source": [
        "<a href=\"https://colab.research.google.com/github/IvanCampos11/DS-Unit-4-Sprint-3-Deep-Learning/blob/main/module2-convolutional-neural-networks/LS_DS_432_Convolution_Neural_Networks_Assignment.ipynb\" target=\"_parent\"><img src=\"https://colab.research.google.com/assets/colab-badge.svg\" alt=\"Open In Colab\"/></a>"
      ]
    },
    {
      "cell_type": "markdown",
      "metadata": {
        "id": "fc4yMj7mtCAZ",
        "colab_type": "text"
      },
      "source": [
        "<img align=\"left\" src=\"https://lever-client-logos.s3.amazonaws.com/864372b1-534c-480e-acd5-9711f850815c-1524247202159.png\" width=200>\n",
        "<br></br>\n",
        "<br></br>\n",
        "\n",
        "## *Data Science Unit 4 Sprint 3 Assignment 2*\n",
        "# Convolutional Neural Networks (CNNs)"
      ]
    },
    {
      "cell_type": "markdown",
      "metadata": {
        "colab_type": "text",
        "id": "0lfZdD_cp1t5"
      },
      "source": [
        "# Assignment\n",
        "\n",
        "- <a href=\"#p1\">Part 1:</a> Pre-Trained Model\n",
        "- <a href=\"#p2\">Part 2:</a> Custom CNN Model\n",
        "- <a href=\"#p3\">Part 3:</a> CNN with Data Augmentation\n",
        "\n",
        "\n",
        "You will apply three different CNN models to a binary image classification model using Keras. Classify images of Mountains (`./data/train/mountain/*`) and images of forests (`./data/train/forest/*`). Treat mountains as the positive class (1) and the forest images as the negative (zero). \n",
        "\n",
        "|Mountain (+)|Forest (-)|\n",
        "|---|---|\n",
        "|![](https://github.com/LambdaSchool/DS-Unit-4-Sprint-3-Deep-Learning/blob/main/module2-convolutional-neural-networks/data/train/mountain/art1131.jpg?raw=1)|![](https://github.com/LambdaSchool/DS-Unit-4-Sprint-3-Deep-Learning/blob/main/module2-convolutional-neural-networks/data/validation/forest/cdmc317.jpg?raw=1)|\n",
        "\n",
        "The problem is relatively difficult given that the sample is tiny: there are about 350 observations per class. This sample size might be something that you can expect with prototyping an image classification problem/solution at work. Get accustomed to evaluating several different possible models."
      ]
    },
    {
      "cell_type": "markdown",
      "metadata": {
        "colab_type": "text",
        "id": "1eawBP-otCAb"
      },
      "source": [
        "# Pre - Trained Model\n",
        "<a id=\"p1\"></a>\n",
        "\n",
        "Load a pretrained network from Keras, [ResNet50](https://tfhub.dev/google/imagenet/resnet_v1_50/classification/1) - a 50 layer deep network trained to recognize [1000 objects](https://storage.googleapis.com/download.tensorflow.org/data/ImageNetLabels.txt). Starting usage:\n",
        "\n",
        "```python\n",
        "import numpy as np\n",
        "\n",
        "from tensorflow.keras.applications.resnet50 import ResNet50\n",
        "from tensorflow.keras.preprocessing import image\n",
        "from tensorflow.keras.applications.resnet50 import preprocess_input, decode_predictions\n",
        "\n",
        "from tensorflow.keras.layers import Dense, GlobalAveragePooling2D\n",
        "from tensorflow.keras.models import Model # This is the functional API\n",
        "\n",
        "resnet = ResNet50(weights='imagenet', include_top=False)\n",
        "\n",
        "```\n",
        "\n",
        "The `include_top` parameter in `ResNet50` will remove the full connected layers from the ResNet model. The next step is to turn off the training of the ResNet layers. We want to use the learned parameters without updating them in future training passes. \n",
        "\n",
        "```python\n",
        "for layer in resnet.layers:\n",
        "    layer.trainable = False\n",
        "```\n",
        "\n",
        "Using the Keras functional API, we will need to additional additional full connected layers to our model. We we removed the top layers, we removed all preivous fully connected layers. In other words, we kept only the feature processing portions of our network. You can expert with additional layers beyond what's listed here. The `GlobalAveragePooling2D` layer functions as a really fancy flatten function by taking the average of each of the last convolutional layer outputs (which is two dimensional still). \n",
        "\n",
        "```python\n",
        "x = resnet.output\n",
        "x = GlobalAveragePooling2D()(x) # This layer is a really fancy flatten\n",
        "x = Dense(1024, activation='relu')(x)\n",
        "predictions = Dense(1, activation='sigmoid')(x)\n",
        "model = Model(resnet.input, predictions)\n",
        "```\n",
        "\n",
        "Your assignment is to apply the transfer learning above to classify images of Mountains (`./data/train/mountain/*`) and images of forests (`./data/train/forest/*`). Treat mountains as the positive class (1) and the forest images as the negative (zero). \n",
        "\n",
        "Steps to complete assignment: \n",
        "1. Load in Image Data into numpy arrays (`X`) \n",
        "2. Create a `y` for the labels\n",
        "3. Train your model with pre-trained layers from resnet\n",
        "4. Report your model's accuracy"
      ]
    },
    {
      "cell_type": "markdown",
      "metadata": {
        "id": "CLdGdXCatCAb",
        "colab_type": "text"
      },
      "source": [
        "## Load in Data\n",
        "\n",
        "This surprisingly more difficult than it seems, because you are working with directories of images instead of a single file. This boiler plate will help you download a zipped version of the directory of images. The directory is organized into \"train\" and \"validation\" which you can use inside an `ImageGenerator` class to stream batches of images thru your model.  \n"
      ]
    },
    {
      "cell_type": "markdown",
      "metadata": {
        "id": "moRVuHUqtCAc",
        "colab_type": "text"
      },
      "source": [
        "### Download & Summarize the Data\n",
        "\n",
        "This step is completed for you. Just run the cells and review the results. "
      ]
    },
    {
      "cell_type": "code",
      "metadata": {
        "id": "AR66H8o9tCAc",
        "colab_type": "code",
        "colab": {}
      },
      "source": [
        "import tensorflow as tf\n",
        "import os\n",
        "\n",
        "_URL = 'https://github.com/LambdaSchool/DS-Unit-4-Sprint-3-Deep-Learning/blob/main/module2-convolutional-neural-networks/data.zip?raw=true'\n",
        "\n",
        "path_to_zip = tf.keras.utils.get_file('./data.zip', origin=_URL, extract=True)\n",
        "PATH = os.path.join(os.path.dirname(path_to_zip), 'data')"
      ],
      "execution_count": 132,
      "outputs": []
    },
    {
      "cell_type": "code",
      "metadata": {
        "id": "MNFsIu_KtCAg",
        "colab_type": "code",
        "colab": {}
      },
      "source": [
        "train_dir = os.path.join(PATH, 'train')\n",
        "validation_dir = os.path.join(PATH, 'validation')"
      ],
      "execution_count": 133,
      "outputs": []
    },
    {
      "cell_type": "code",
      "metadata": {
        "id": "OsI9BQLotCAj",
        "colab_type": "code",
        "colab": {}
      },
      "source": [
        "train_mountain_dir = os.path.join(train_dir, 'mountain')  # directory with our training cat pictures\n",
        "train_forest_dir = os.path.join(train_dir, 'forest')  # directory with our training dog pictures\n",
        "validation_mountain_dir = os.path.join(validation_dir, 'mountain')  # directory with our validation cat pictures\n",
        "validation_forest_dir = os.path.join(validation_dir, 'forest')  # directory with our validation dog pictures"
      ],
      "execution_count": 134,
      "outputs": []
    },
    {
      "cell_type": "code",
      "metadata": {
        "id": "NUs1e5-XtCAl",
        "colab_type": "code",
        "colab": {}
      },
      "source": [
        "num_mountain_tr = len(os.listdir(train_mountain_dir))\n",
        "num_forest_tr = len(os.listdir(train_forest_dir))\n",
        "\n",
        "num_mountain_val = len(os.listdir(validation_mountain_dir))\n",
        "num_forest_val = len(os.listdir(validation_forest_dir))\n",
        "\n",
        "total_train = num_mountain_tr + num_forest_tr\n",
        "total_val = num_mountain_val + num_forest_val"
      ],
      "execution_count": 135,
      "outputs": []
    },
    {
      "cell_type": "code",
      "metadata": {
        "id": "ZmklbgSMtCAn",
        "colab_type": "code",
        "colab": {
          "base_uri": "https://localhost:8080/",
          "height": 136
        },
        "outputId": "4b1351d4-9377-451c-96f5-4c8d03a5fd6b"
      },
      "source": [
        "print('total training mountain images:', num_mountain_tr)\n",
        "print('total training forest images:', num_forest_tr)\n",
        "\n",
        "print('total validation mountain images:', num_mountain_val)\n",
        "print('total validation forest images:', num_forest_val)\n",
        "print(\"--\")\n",
        "print(\"Total training images:\", total_train)\n",
        "print(\"Total validation images:\", total_val)"
      ],
      "execution_count": 136,
      "outputs": [
        {
          "output_type": "stream",
          "text": [
            "total training mountain images: 254\n",
            "total training forest images: 270\n",
            "total validation mountain images: 125\n",
            "total validation forest images: 62\n",
            "--\n",
            "Total training images: 524\n",
            "Total validation images: 187\n"
          ],
          "name": "stdout"
        }
      ]
    },
    {
      "cell_type": "markdown",
      "metadata": {
        "id": "dQ4ag4ultCAq",
        "colab_type": "text"
      },
      "source": [
        "### Keras `ImageGenerator` to Process the Data\n",
        "\n",
        "This step is completed for you, but please review the code. The `ImageGenerator` class reads in batches of data from a directory and pass them to the model one batch at a time. Just like large text files, this method is advantageous, because it stifles the need to load a bunch of images into memory. \n",
        "\n",
        "Check out the documentation for this class method: [Keras `ImageGenerator` Class](https://keras.io/preprocessing/image/#imagedatagenerator-class). You'll expand it's use in the third assignment objective."
      ]
    },
    {
      "cell_type": "code",
      "metadata": {
        "id": "67i9IW49tCAq",
        "colab_type": "code",
        "colab": {}
      },
      "source": [
        "batch_size = 16\n",
        "epochs = 50\n",
        "IMG_HEIGHT = 224\n",
        "IMG_WIDTH = 224"
      ],
      "execution_count": 137,
      "outputs": []
    },
    {
      "cell_type": "code",
      "metadata": {
        "id": "B1wNKMo1tCAt",
        "colab_type": "code",
        "colab": {}
      },
      "source": [
        "from tensorflow.keras.preprocessing.image import ImageDataGenerator\n",
        "\n",
        "train_image_generator = ImageDataGenerator(rescale=1./255) # Generator for our training data\n",
        "validation_image_generator = ImageDataGenerator(rescale=1./255) # Generator for our validation data"
      ],
      "execution_count": 138,
      "outputs": []
    },
    {
      "cell_type": "code",
      "metadata": {
        "id": "ndsuM4L9tCAv",
        "colab_type": "code",
        "colab": {
          "base_uri": "https://localhost:8080/",
          "height": 34
        },
        "outputId": "5cd2679f-c88c-4dc9-df1c-facd5796d23e"
      },
      "source": [
        "train_data_gen = train_image_generator.flow_from_directory(batch_size=batch_size,\n",
        "                                                           directory=train_dir,\n",
        "                                                           shuffle=True,\n",
        "                                                           target_size=(IMG_HEIGHT, IMG_WIDTH),\n",
        "                                                           class_mode='binary')"
      ],
      "execution_count": 139,
      "outputs": [
        {
          "output_type": "stream",
          "text": [
            "Found 533 images belonging to 2 classes.\n"
          ],
          "name": "stdout"
        }
      ]
    },
    {
      "cell_type": "code",
      "metadata": {
        "id": "9kxlk3optCAy",
        "colab_type": "code",
        "colab": {
          "base_uri": "https://localhost:8080/",
          "height": 34
        },
        "outputId": "d1984a03-05ca-42a2-def7-e9011b2d199b"
      },
      "source": [
        "val_data_gen = validation_image_generator.flow_from_directory(batch_size=batch_size,\n",
        "                                                              directory=validation_dir,\n",
        "                                                              target_size=(IMG_HEIGHT, IMG_WIDTH),\n",
        "                                                              class_mode='binary')"
      ],
      "execution_count": 140,
      "outputs": [
        {
          "output_type": "stream",
          "text": [
            "Found 195 images belonging to 2 classes.\n"
          ],
          "name": "stdout"
        }
      ]
    },
    {
      "cell_type": "code",
      "metadata": {
        "id": "gMW3GjZmHDKj",
        "colab_type": "code",
        "colab": {
          "base_uri": "https://localhost:8080/",
          "height": 34
        },
        "outputId": "e1095b02-89fe-4bb5-fa83-821b35144541"
      },
      "source": [
        "train_data_gen"
      ],
      "execution_count": 141,
      "outputs": [
        {
          "output_type": "execute_result",
          "data": {
            "text/plain": [
              "<tensorflow.python.keras.preprocessing.image.DirectoryIterator at 0x7f74f2f614e0>"
            ]
          },
          "metadata": {
            "tags": []
          },
          "execution_count": 141
        }
      ]
    },
    {
      "cell_type": "markdown",
      "metadata": {
        "id": "2l7ue6NutCA0",
        "colab_type": "text"
      },
      "source": [
        "## Instatiate Model"
      ]
    },
    {
      "cell_type": "code",
      "metadata": {
        "id": "M2nwsX0j0l4i",
        "colab_type": "code",
        "colab": {}
      },
      "source": [
        "import numpy as np\n",
        " \n",
        "from tensorflow.keras.applications.resnet50 import ResNet50\n",
        "from tensorflow.keras.preprocessing import image\n",
        "from tensorflow.keras.applications.resnet50 import preprocess_input, decode_predictions\n",
        " \n",
        "from tensorflow.keras.layers import Dense, GlobalAveragePooling2D\n",
        "from tensorflow.keras.models import Model # This is the functional API\n",
        " \n",
        "resnet = ResNet50(weights='imagenet', include_top=False)"
      ],
      "execution_count": 142,
      "outputs": []
    },
    {
      "cell_type": "code",
      "metadata": {
        "id": "mKNIYOEItCA0",
        "colab_type": "code",
        "colab": {}
      },
      "source": [
        "for layer in resnet.layers:\n",
        "    layer.trainable = False"
      ],
      "execution_count": 143,
      "outputs": []
    },
    {
      "cell_type": "code",
      "metadata": {
        "id": "-oHccdYDTk1t",
        "colab_type": "code",
        "colab": {}
      },
      "source": [
        "x = resnet.output\n",
        "x = GlobalAveragePooling2D()(x) # This layer is a really fancy flatten\n",
        "x = Dense(1024, activation='relu')(x)\n",
        "predictions = Dense(1, activation='sigmoid')(x)\n",
        "model = Model(resnet.input, predictions)"
      ],
      "execution_count": 144,
      "outputs": []
    },
    {
      "cell_type": "code",
      "metadata": {
        "id": "pyaLf6wi0ssb",
        "colab_type": "code",
        "colab": {}
      },
      "source": [
        "model.compile(optimizer='adam',\n",
        "              loss='sparse_categorical_crossentropy',\n",
        "              metrics=['accuracy'])"
      ],
      "execution_count": 145,
      "outputs": []
    },
    {
      "cell_type": "markdown",
      "metadata": {
        "id": "BVPBWYG7tCA2",
        "colab_type": "text"
      },
      "source": [
        "## Fit Model"
      ]
    },
    {
      "cell_type": "code",
      "metadata": {
        "id": "H4XdvWA5tCA3",
        "colab_type": "code",
        "colab": {
          "base_uri": "https://localhost:8080/",
          "height": 1000
        },
        "outputId": "df1b1778-8c8f-4c58-8c49-3a0e3527fdf9"
      },
      "source": [
        "history = model.fit(\n",
        "    train_data_gen,\n",
        "    steps_per_epoch=total_train // batch_size,\n",
        "    epochs=epochs,\n",
        "    validation_data=val_data_gen,\n",
        "    validation_steps=total_val // batch_size\n",
        ")"
      ],
      "execution_count": 146,
      "outputs": [
        {
          "output_type": "stream",
          "text": [
            "Epoch 1/50\n",
            "32/32 [==============================] - 3s 104ms/step - loss: nan - accuracy: 0.5170 - val_loss: nan - val_accuracy: 0.3409\n",
            "Epoch 2/50\n",
            "32/32 [==============================] - 3s 79ms/step - loss: nan - accuracy: 0.5170 - val_loss: nan - val_accuracy: 0.3409\n",
            "Epoch 3/50\n",
            "32/32 [==============================] - 3s 79ms/step - loss: nan - accuracy: 0.5070 - val_loss: nan - val_accuracy: 0.3409\n",
            "Epoch 4/50\n",
            "32/32 [==============================] - 3s 78ms/step - loss: nan - accuracy: 0.5210 - val_loss: nan - val_accuracy: 0.3523\n",
            "Epoch 5/50\n",
            "32/32 [==============================] - 3s 79ms/step - loss: nan - accuracy: 0.5150 - val_loss: nan - val_accuracy: 0.3466\n",
            "Epoch 6/50\n",
            "32/32 [==============================] - 3s 79ms/step - loss: nan - accuracy: 0.5170 - val_loss: nan - val_accuracy: 0.3523\n",
            "Epoch 7/50\n",
            "32/32 [==============================] - 3s 80ms/step - loss: nan - accuracy: 0.5190 - val_loss: nan - val_accuracy: 0.3352\n",
            "Epoch 8/50\n",
            "32/32 [==============================] - 3s 80ms/step - loss: nan - accuracy: 0.5050 - val_loss: nan - val_accuracy: 0.3523\n",
            "Epoch 9/50\n",
            "32/32 [==============================] - 3s 80ms/step - loss: nan - accuracy: 0.5110 - val_loss: nan - val_accuracy: 0.3523\n",
            "Epoch 10/50\n",
            "32/32 [==============================] - 3s 79ms/step - loss: nan - accuracy: 0.5130 - val_loss: nan - val_accuracy: 0.3295\n",
            "Epoch 11/50\n",
            "32/32 [==============================] - 3s 79ms/step - loss: nan - accuracy: 0.5130 - val_loss: nan - val_accuracy: 0.3466\n",
            "Epoch 12/50\n",
            "32/32 [==============================] - 2s 78ms/step - loss: nan - accuracy: 0.5289 - val_loss: nan - val_accuracy: 0.3580\n",
            "Epoch 13/50\n",
            "32/32 [==============================] - 2s 78ms/step - loss: nan - accuracy: 0.5190 - val_loss: nan - val_accuracy: 0.3409\n",
            "Epoch 14/50\n",
            "32/32 [==============================] - 2s 78ms/step - loss: nan - accuracy: 0.5190 - val_loss: nan - val_accuracy: 0.3295\n",
            "Epoch 15/50\n",
            "32/32 [==============================] - 2s 78ms/step - loss: nan - accuracy: 0.5110 - val_loss: nan - val_accuracy: 0.3523\n",
            "Epoch 16/50\n",
            "32/32 [==============================] - 2s 77ms/step - loss: nan - accuracy: 0.5230 - val_loss: nan - val_accuracy: 0.3409\n",
            "Epoch 17/50\n",
            "32/32 [==============================] - 2s 77ms/step - loss: nan - accuracy: 0.5130 - val_loss: nan - val_accuracy: 0.3295\n",
            "Epoch 18/50\n",
            "32/32 [==============================] - 2s 78ms/step - loss: nan - accuracy: 0.5070 - val_loss: nan - val_accuracy: 0.3239\n",
            "Epoch 19/50\n",
            "32/32 [==============================] - 2s 77ms/step - loss: nan - accuracy: 0.5210 - val_loss: nan - val_accuracy: 0.3523\n",
            "Epoch 20/50\n",
            "32/32 [==============================] - 2s 77ms/step - loss: nan - accuracy: 0.5130 - val_loss: nan - val_accuracy: 0.3466\n",
            "Epoch 21/50\n",
            "32/32 [==============================] - 2s 78ms/step - loss: nan - accuracy: 0.5150 - val_loss: nan - val_accuracy: 0.3466\n",
            "Epoch 22/50\n",
            "32/32 [==============================] - 2s 77ms/step - loss: nan - accuracy: 0.5190 - val_loss: nan - val_accuracy: 0.3580\n",
            "Epoch 23/50\n",
            "32/32 [==============================] - 2s 77ms/step - loss: nan - accuracy: 0.5130 - val_loss: nan - val_accuracy: 0.3352\n",
            "Epoch 24/50\n",
            "32/32 [==============================] - 2s 77ms/step - loss: nan - accuracy: 0.5190 - val_loss: nan - val_accuracy: 0.3125\n",
            "Epoch 25/50\n",
            "32/32 [==============================] - 2s 77ms/step - loss: nan - accuracy: 0.5250 - val_loss: nan - val_accuracy: 0.3523\n",
            "Epoch 26/50\n",
            "32/32 [==============================] - 2s 77ms/step - loss: nan - accuracy: 0.5130 - val_loss: nan - val_accuracy: 0.3466\n",
            "Epoch 27/50\n",
            "32/32 [==============================] - 2s 78ms/step - loss: nan - accuracy: 0.5234 - val_loss: nan - val_accuracy: 0.3352\n",
            "Epoch 28/50\n",
            "32/32 [==============================] - 2s 78ms/step - loss: nan - accuracy: 0.5110 - val_loss: nan - val_accuracy: 0.3580\n",
            "Epoch 29/50\n",
            "32/32 [==============================] - 2s 78ms/step - loss: nan - accuracy: 0.5170 - val_loss: nan - val_accuracy: 0.3693\n",
            "Epoch 30/50\n",
            "32/32 [==============================] - 3s 79ms/step - loss: nan - accuracy: 0.5190 - val_loss: nan - val_accuracy: 0.3466\n",
            "Epoch 31/50\n",
            "32/32 [==============================] - 2s 78ms/step - loss: nan - accuracy: 0.5230 - val_loss: nan - val_accuracy: 0.3580\n",
            "Epoch 32/50\n",
            "32/32 [==============================] - 2s 78ms/step - loss: nan - accuracy: 0.5170 - val_loss: nan - val_accuracy: 0.3636\n",
            "Epoch 33/50\n",
            "32/32 [==============================] - 2s 78ms/step - loss: nan - accuracy: 0.5110 - val_loss: nan - val_accuracy: 0.3580\n",
            "Epoch 34/50\n",
            "32/32 [==============================] - 2s 77ms/step - loss: nan - accuracy: 0.5170 - val_loss: nan - val_accuracy: 0.3239\n",
            "Epoch 35/50\n",
            "32/32 [==============================] - 2s 78ms/step - loss: nan - accuracy: 0.5150 - val_loss: nan - val_accuracy: 0.3580\n",
            "Epoch 36/50\n",
            "32/32 [==============================] - 3s 79ms/step - loss: nan - accuracy: 0.5230 - val_loss: nan - val_accuracy: 0.3182\n",
            "Epoch 37/50\n",
            "32/32 [==============================] - 3s 78ms/step - loss: nan - accuracy: 0.5170 - val_loss: nan - val_accuracy: 0.3352\n",
            "Epoch 38/50\n",
            "32/32 [==============================] - 2s 78ms/step - loss: nan - accuracy: 0.5070 - val_loss: nan - val_accuracy: 0.3636\n",
            "Epoch 39/50\n",
            "32/32 [==============================] - 2s 78ms/step - loss: nan - accuracy: 0.5130 - val_loss: nan - val_accuracy: 0.3523\n",
            "Epoch 40/50\n",
            "32/32 [==============================] - 3s 78ms/step - loss: nan - accuracy: 0.5190 - val_loss: nan - val_accuracy: 0.3352\n",
            "Epoch 41/50\n",
            "32/32 [==============================] - 3s 78ms/step - loss: nan - accuracy: 0.5190 - val_loss: nan - val_accuracy: 0.3409\n",
            "Epoch 42/50\n",
            "32/32 [==============================] - 3s 78ms/step - loss: nan - accuracy: 0.5190 - val_loss: nan - val_accuracy: 0.3295\n",
            "Epoch 43/50\n",
            "32/32 [==============================] - 2s 78ms/step - loss: nan - accuracy: 0.5130 - val_loss: nan - val_accuracy: 0.3295\n",
            "Epoch 44/50\n",
            "32/32 [==============================] - 2s 78ms/step - loss: nan - accuracy: 0.5070 - val_loss: nan - val_accuracy: 0.3409\n",
            "Epoch 45/50\n",
            "32/32 [==============================] - 2s 78ms/step - loss: nan - accuracy: 0.5210 - val_loss: nan - val_accuracy: 0.3409\n",
            "Epoch 46/50\n",
            "32/32 [==============================] - 2s 78ms/step - loss: nan - accuracy: 0.5190 - val_loss: nan - val_accuracy: 0.3466\n",
            "Epoch 47/50\n",
            "32/32 [==============================] - 3s 78ms/step - loss: nan - accuracy: 0.5190 - val_loss: nan - val_accuracy: 0.3523\n",
            "Epoch 48/50\n",
            "32/32 [==============================] - 3s 79ms/step - loss: nan - accuracy: 0.5090 - val_loss: nan - val_accuracy: 0.3693\n",
            "Epoch 49/50\n",
            "32/32 [==============================] - 3s 78ms/step - loss: nan - accuracy: 0.5110 - val_loss: nan - val_accuracy: 0.3239\n",
            "Epoch 50/50\n",
            "32/32 [==============================] - 3s 78ms/step - loss: nan - accuracy: 0.5110 - val_loss: nan - val_accuracy: 0.3580\n"
          ],
          "name": "stdout"
        }
      ]
    },
    {
      "cell_type": "markdown",
      "metadata": {
        "id": "UPzsgS94tCA5",
        "colab_type": "text"
      },
      "source": [
        "# Custom CNN Model\n",
        "\n",
        "In this step, write and train your own convolutional neural network using Keras. You can use any architecture that suits you as long as it has at least one convolutional and one pooling layer at the beginning of the network - you can add more if you want. "
      ]
    },
    {
      "cell_type": "code",
      "metadata": {
        "id": "hnbJJie3tCA5",
        "colab_type": "code",
        "colab": {
          "base_uri": "https://localhost:8080/",
          "height": 425
        },
        "outputId": "0acf233d-75a3-46e9-a02f-5ca00b0ca8f2"
      },
      "source": [
        "from tensorflow.keras.models import Sequential, Model # <- May Use\n",
        "from tensorflow.keras.layers import Dense, Conv2D, MaxPooling2D, Flatten\n",
        "# Define the Model\n",
        "model = Sequential()\n",
        "model.add(Conv2D(32, (3,3), activation='relu', input_shape=(224,224,3)))\n",
        "model.add(MaxPooling2D((2,2)))\n",
        "model.add(Conv2D(64, (3,3), activation='relu'))\n",
        "model.add(MaxPooling2D((2,2)))\n",
        "model.add(Conv2D(64, (3,3), activation='relu'))\n",
        "model.add(Flatten())\n",
        "model.add(Dense(64, activation='relu'))\n",
        "model.add(Dense(1, activation='sigmoid'))\n",
        "model.summary()"
      ],
      "execution_count": 147,
      "outputs": [
        {
          "output_type": "stream",
          "text": [
            "Model: \"sequential_14\"\n",
            "_________________________________________________________________\n",
            "Layer (type)                 Output Shape              Param #   \n",
            "=================================================================\n",
            "conv2d_42 (Conv2D)           (None, 222, 222, 32)      896       \n",
            "_________________________________________________________________\n",
            "max_pooling2d_28 (MaxPooling (None, 111, 111, 32)      0         \n",
            "_________________________________________________________________\n",
            "conv2d_43 (Conv2D)           (None, 109, 109, 64)      18496     \n",
            "_________________________________________________________________\n",
            "max_pooling2d_29 (MaxPooling (None, 54, 54, 64)        0         \n",
            "_________________________________________________________________\n",
            "conv2d_44 (Conv2D)           (None, 52, 52, 64)        36928     \n",
            "_________________________________________________________________\n",
            "flatten_14 (Flatten)         (None, 173056)            0         \n",
            "_________________________________________________________________\n",
            "dense_36 (Dense)             (None, 64)                11075648  \n",
            "_________________________________________________________________\n",
            "dense_37 (Dense)             (None, 1)                 65        \n",
            "=================================================================\n",
            "Total params: 11,132,033\n",
            "Trainable params: 11,132,033\n",
            "Non-trainable params: 0\n",
            "_________________________________________________________________\n"
          ],
          "name": "stdout"
        }
      ]
    },
    {
      "cell_type": "code",
      "metadata": {
        "id": "1P_mRtoutCA9",
        "colab_type": "code",
        "colab": {}
      },
      "source": [
        "# Compile Model\n",
        "model.compile(optimizer='adam',\n",
        "              loss='sparse_categorical_crossentropy',\n",
        "              metrics=['accuracy'])"
      ],
      "execution_count": 148,
      "outputs": []
    },
    {
      "cell_type": "code",
      "metadata": {
        "id": "CwM4GsaetCA_",
        "colab_type": "code",
        "colab": {
          "base_uri": "https://localhost:8080/",
          "height": 1000
        },
        "outputId": "18370ee8-f13a-4c1b-f557-f0770042e2cf"
      },
      "source": [
        "# Fit Model\n",
        "Custom_CNN_Model = model.fit(\n",
        "    train_data_gen,\n",
        "    steps_per_epoch=total_train // batch_size,\n",
        "    epochs=epochs,\n",
        "    validation_data=val_data_gen,\n",
        "    validation_steps=total_val // batch_size\n",
        ")"
      ],
      "execution_count": 149,
      "outputs": [
        {
          "output_type": "stream",
          "text": [
            "Epoch 1/50\n",
            "32/32 [==============================] - 2s 63ms/step - loss: nan - accuracy: 0.5250 - val_loss: nan - val_accuracy: 0.3409\n",
            "Epoch 2/50\n",
            "32/32 [==============================] - 2s 60ms/step - loss: nan - accuracy: 0.5269 - val_loss: nan - val_accuracy: 0.3352\n",
            "Epoch 3/50\n",
            "32/32 [==============================] - 2s 60ms/step - loss: nan - accuracy: 0.5137 - val_loss: nan - val_accuracy: 0.3409\n",
            "Epoch 4/50\n",
            "32/32 [==============================] - 2s 59ms/step - loss: nan - accuracy: 0.5250 - val_loss: nan - val_accuracy: 0.3466\n",
            "Epoch 5/50\n",
            "32/32 [==============================] - 2s 59ms/step - loss: nan - accuracy: 0.5190 - val_loss: nan - val_accuracy: 0.3295\n",
            "Epoch 6/50\n",
            "32/32 [==============================] - 2s 59ms/step - loss: nan - accuracy: 0.5210 - val_loss: nan - val_accuracy: 0.3352\n",
            "Epoch 7/50\n",
            "32/32 [==============================] - 2s 59ms/step - loss: nan - accuracy: 0.5210 - val_loss: nan - val_accuracy: 0.3409\n",
            "Epoch 8/50\n",
            "32/32 [==============================] - 2s 59ms/step - loss: nan - accuracy: 0.5170 - val_loss: nan - val_accuracy: 0.3409\n",
            "Epoch 9/50\n",
            "32/32 [==============================] - 2s 59ms/step - loss: nan - accuracy: 0.5117 - val_loss: nan - val_accuracy: 0.3523\n",
            "Epoch 10/50\n",
            "32/32 [==============================] - 2s 59ms/step - loss: nan - accuracy: 0.5210 - val_loss: nan - val_accuracy: 0.3466\n",
            "Epoch 11/50\n",
            "32/32 [==============================] - 2s 60ms/step - loss: nan - accuracy: 0.5190 - val_loss: nan - val_accuracy: 0.3523\n",
            "Epoch 12/50\n",
            "32/32 [==============================] - 2s 60ms/step - loss: nan - accuracy: 0.5110 - val_loss: nan - val_accuracy: 0.3352\n",
            "Epoch 13/50\n",
            "32/32 [==============================] - 2s 60ms/step - loss: nan - accuracy: 0.5130 - val_loss: nan - val_accuracy: 0.3466\n",
            "Epoch 14/50\n",
            "32/32 [==============================] - 2s 61ms/step - loss: nan - accuracy: 0.5210 - val_loss: nan - val_accuracy: 0.3352\n",
            "Epoch 15/50\n",
            "32/32 [==============================] - 2s 59ms/step - loss: nan - accuracy: 0.5230 - val_loss: nan - val_accuracy: 0.3352\n",
            "Epoch 16/50\n",
            "32/32 [==============================] - 2s 59ms/step - loss: nan - accuracy: 0.5230 - val_loss: nan - val_accuracy: 0.3352\n",
            "Epoch 17/50\n",
            "32/32 [==============================] - 2s 60ms/step - loss: nan - accuracy: 0.5269 - val_loss: nan - val_accuracy: 0.3523\n",
            "Epoch 18/50\n",
            "32/32 [==============================] - 2s 60ms/step - loss: nan - accuracy: 0.5234 - val_loss: nan - val_accuracy: 0.3409\n",
            "Epoch 19/50\n",
            "32/32 [==============================] - 2s 59ms/step - loss: nan - accuracy: 0.5050 - val_loss: nan - val_accuracy: 0.3295\n",
            "Epoch 20/50\n",
            "32/32 [==============================] - 2s 60ms/step - loss: nan - accuracy: 0.5210 - val_loss: nan - val_accuracy: 0.3295\n",
            "Epoch 21/50\n",
            "32/32 [==============================] - 2s 60ms/step - loss: nan - accuracy: 0.5150 - val_loss: nan - val_accuracy: 0.3466\n",
            "Epoch 22/50\n",
            "32/32 [==============================] - 2s 60ms/step - loss: nan - accuracy: 0.5130 - val_loss: nan - val_accuracy: 0.3295\n",
            "Epoch 23/50\n",
            "32/32 [==============================] - 2s 62ms/step - loss: nan - accuracy: 0.5110 - val_loss: nan - val_accuracy: 0.3580\n",
            "Epoch 24/50\n",
            "32/32 [==============================] - 2s 62ms/step - loss: nan - accuracy: 0.5110 - val_loss: nan - val_accuracy: 0.3466\n",
            "Epoch 25/50\n",
            "32/32 [==============================] - 2s 61ms/step - loss: nan - accuracy: 0.5070 - val_loss: nan - val_accuracy: 0.3523\n",
            "Epoch 26/50\n",
            "32/32 [==============================] - 2s 60ms/step - loss: nan - accuracy: 0.5254 - val_loss: nan - val_accuracy: 0.3580\n",
            "Epoch 27/50\n",
            "32/32 [==============================] - 2s 61ms/step - loss: nan - accuracy: 0.5190 - val_loss: nan - val_accuracy: 0.3466\n",
            "Epoch 28/50\n",
            "32/32 [==============================] - 2s 59ms/step - loss: nan - accuracy: 0.5150 - val_loss: nan - val_accuracy: 0.3466\n",
            "Epoch 29/50\n",
            "32/32 [==============================] - 2s 59ms/step - loss: nan - accuracy: 0.5050 - val_loss: nan - val_accuracy: 0.3352\n",
            "Epoch 30/50\n",
            "32/32 [==============================] - 2s 60ms/step - loss: nan - accuracy: 0.5190 - val_loss: nan - val_accuracy: 0.3352\n",
            "Epoch 31/50\n",
            "32/32 [==============================] - 2s 60ms/step - loss: nan - accuracy: 0.5137 - val_loss: nan - val_accuracy: 0.3580\n",
            "Epoch 32/50\n",
            "32/32 [==============================] - 2s 60ms/step - loss: nan - accuracy: 0.5170 - val_loss: nan - val_accuracy: 0.3352\n",
            "Epoch 33/50\n",
            "32/32 [==============================] - 2s 61ms/step - loss: nan - accuracy: 0.5176 - val_loss: nan - val_accuracy: 0.3352\n",
            "Epoch 34/50\n",
            "32/32 [==============================] - 2s 60ms/step - loss: nan - accuracy: 0.5150 - val_loss: nan - val_accuracy: 0.3580\n",
            "Epoch 35/50\n",
            "32/32 [==============================] - 2s 60ms/step - loss: nan - accuracy: 0.5150 - val_loss: nan - val_accuracy: 0.3295\n",
            "Epoch 36/50\n",
            "32/32 [==============================] - 2s 60ms/step - loss: nan - accuracy: 0.5130 - val_loss: nan - val_accuracy: 0.3466\n",
            "Epoch 37/50\n",
            "32/32 [==============================] - 2s 60ms/step - loss: nan - accuracy: 0.5170 - val_loss: nan - val_accuracy: 0.3466\n",
            "Epoch 38/50\n",
            "32/32 [==============================] - 2s 61ms/step - loss: nan - accuracy: 0.5190 - val_loss: nan - val_accuracy: 0.3580\n",
            "Epoch 39/50\n",
            "32/32 [==============================] - 2s 60ms/step - loss: nan - accuracy: 0.5110 - val_loss: nan - val_accuracy: 0.3466\n",
            "Epoch 40/50\n",
            "32/32 [==============================] - 2s 60ms/step - loss: nan - accuracy: 0.5190 - val_loss: nan - val_accuracy: 0.3409\n",
            "Epoch 41/50\n",
            "32/32 [==============================] - 2s 60ms/step - loss: nan - accuracy: 0.5110 - val_loss: nan - val_accuracy: 0.3693\n",
            "Epoch 42/50\n",
            "32/32 [==============================] - 2s 60ms/step - loss: nan - accuracy: 0.5210 - val_loss: nan - val_accuracy: 0.3409\n",
            "Epoch 43/50\n",
            "32/32 [==============================] - 2s 60ms/step - loss: nan - accuracy: 0.5110 - val_loss: nan - val_accuracy: 0.3523\n",
            "Epoch 44/50\n",
            "32/32 [==============================] - 2s 61ms/step - loss: nan - accuracy: 0.5234 - val_loss: nan - val_accuracy: 0.3409\n",
            "Epoch 45/50\n",
            "32/32 [==============================] - 2s 59ms/step - loss: nan - accuracy: 0.5250 - val_loss: nan - val_accuracy: 0.3523\n",
            "Epoch 46/50\n",
            "32/32 [==============================] - 2s 59ms/step - loss: nan - accuracy: 0.5190 - val_loss: nan - val_accuracy: 0.3523\n",
            "Epoch 47/50\n",
            "32/32 [==============================] - 2s 59ms/step - loss: nan - accuracy: 0.5150 - val_loss: nan - val_accuracy: 0.3409\n",
            "Epoch 48/50\n",
            "32/32 [==============================] - 2s 60ms/step - loss: nan - accuracy: 0.5110 - val_loss: nan - val_accuracy: 0.3409\n",
            "Epoch 49/50\n",
            "32/32 [==============================] - 2s 60ms/step - loss: nan - accuracy: 0.5210 - val_loss: nan - val_accuracy: 0.3523\n",
            "Epoch 50/50\n",
            "32/32 [==============================] - 2s 61ms/step - loss: nan - accuracy: 0.5156 - val_loss: nan - val_accuracy: 0.3523\n"
          ],
          "name": "stdout"
        }
      ]
    },
    {
      "cell_type": "markdown",
      "metadata": {
        "id": "FNTHjUddtCBB",
        "colab_type": "text"
      },
      "source": [
        "# Custom CNN Model with Image Manipulations\n",
        "\n",
        "To simulate an increase in a sample of image, you can apply image manipulation techniques: cropping, rotation, stretching, etc. Luckily Keras has some handy functions for us to apply these techniques to our mountain and forest example. Simply, you should be able to modify our image generator for the problem. Check out these resources to help you get started: \n",
        "\n",
        "1. [Keras `ImageGenerator` Class](https://keras.io/preprocessing/image/#imagedatagenerator-class)\n",
        "2. [Building a powerful image classifier with very little data](https://blog.keras.io/building-powerful-image-classification-models-using-very-little-data.html)\n",
        " "
      ]
    },
    {
      "cell_type": "code",
      "metadata": {
        "id": "_NWHhlBUap0S",
        "colab_type": "code",
        "colab": {}
      },
      "source": [
        "train_image_generator = ImageDataGenerator(\n",
        "    rescale=1./255,\n",
        "    rotation_range=40,\n",
        "    width_shift_range=0.2,\n",
        "    height_shift_range=0.2,\n",
        "    shear_range=0.2,\n",
        "    zoom_range=0.2,\n",
        "    horizontal_flip=True,\n",
        "    fill_mode='nearest')\n",
        "\n",
        "validation_image_generator = ImageDataGenerator(\n",
        "    rescale=1./255,\n",
        "    rotation_range=40,\n",
        "    width_shift_range=0.2,\n",
        "    height_shift_range=0.2,\n",
        "    shear_range=0.2,\n",
        "    zoom_range=0.2,\n",
        "    horizontal_flip=True,\n",
        "    fill_mode='nearest')"
      ],
      "execution_count": 150,
      "outputs": []
    },
    {
      "cell_type": "code",
      "metadata": {
        "id": "XKioBv3WtCBB",
        "colab_type": "code",
        "colab": {
          "base_uri": "https://localhost:8080/",
          "height": 34
        },
        "outputId": "5077f579-c877-43eb-85df-aebce64f6db2"
      },
      "source": [
        "train_data_gen = train_image_generator.flow_from_directory(batch_size=batch_size,\n",
        "                                                           directory=train_dir,\n",
        "                                                           shuffle=True,\n",
        "                                                           target_size=(IMG_HEIGHT, IMG_WIDTH),\n",
        "                                                           class_mode='binary')"
      ],
      "execution_count": 151,
      "outputs": [
        {
          "output_type": "stream",
          "text": [
            "Found 533 images belonging to 2 classes.\n"
          ],
          "name": "stdout"
        }
      ]
    },
    {
      "cell_type": "code",
      "metadata": {
        "id": "vyOmDrWMbM6_",
        "colab_type": "code",
        "colab": {
          "base_uri": "https://localhost:8080/",
          "height": 34
        },
        "outputId": "9cba9b9b-0a08-47e9-e095-01d5ca150ddd"
      },
      "source": [
        "val_data_gen = validation_image_generator.flow_from_directory(batch_size=batch_size,\n",
        "                                                              directory=validation_dir,\n",
        "                                                              target_size=(IMG_HEIGHT, IMG_WIDTH),\n",
        "                                                              class_mode='binary')"
      ],
      "execution_count": 152,
      "outputs": [
        {
          "output_type": "stream",
          "text": [
            "Found 195 images belonging to 2 classes.\n"
          ],
          "name": "stdout"
        }
      ]
    },
    {
      "cell_type": "code",
      "metadata": {
        "id": "J0zCNl1bbM9U",
        "colab_type": "code",
        "colab": {
          "base_uri": "https://localhost:8080/",
          "height": 425
        },
        "outputId": "f9289c97-8d30-43d7-c87b-f51e13234d78"
      },
      "source": [
        "model = Sequential()\n",
        "model.add(Conv2D(32, (3,3), activation='relu', input_shape=(224,224,3)))\n",
        "model.add(MaxPooling2D((2,2)))\n",
        "model.add(Conv2D(64, (3,3), activation='relu'))\n",
        "model.add(MaxPooling2D((2,2)))\n",
        "model.add(Conv2D(64, (3,3), activation='relu'))\n",
        "model.add(Flatten())\n",
        "model.add(Dense(64, activation='relu'))\n",
        "model.add(Dense(1, activation='sigmoid'))\n",
        "model.summary()"
      ],
      "execution_count": 153,
      "outputs": [
        {
          "output_type": "stream",
          "text": [
            "Model: \"sequential_15\"\n",
            "_________________________________________________________________\n",
            "Layer (type)                 Output Shape              Param #   \n",
            "=================================================================\n",
            "conv2d_45 (Conv2D)           (None, 222, 222, 32)      896       \n",
            "_________________________________________________________________\n",
            "max_pooling2d_30 (MaxPooling (None, 111, 111, 32)      0         \n",
            "_________________________________________________________________\n",
            "conv2d_46 (Conv2D)           (None, 109, 109, 64)      18496     \n",
            "_________________________________________________________________\n",
            "max_pooling2d_31 (MaxPooling (None, 54, 54, 64)        0         \n",
            "_________________________________________________________________\n",
            "conv2d_47 (Conv2D)           (None, 52, 52, 64)        36928     \n",
            "_________________________________________________________________\n",
            "flatten_15 (Flatten)         (None, 173056)            0         \n",
            "_________________________________________________________________\n",
            "dense_38 (Dense)             (None, 64)                11075648  \n",
            "_________________________________________________________________\n",
            "dense_39 (Dense)             (None, 1)                 65        \n",
            "=================================================================\n",
            "Total params: 11,132,033\n",
            "Trainable params: 11,132,033\n",
            "Non-trainable params: 0\n",
            "_________________________________________________________________\n"
          ],
          "name": "stdout"
        }
      ]
    },
    {
      "cell_type": "code",
      "metadata": {
        "id": "cRwxXyQ9bNES",
        "colab_type": "code",
        "colab": {}
      },
      "source": [
        "model.compile(optimizer='adam',\n",
        "              loss='sparse_categorical_crossentropy',\n",
        "              metrics=['accuracy'])"
      ],
      "execution_count": 154,
      "outputs": []
    },
    {
      "cell_type": "code",
      "metadata": {
        "id": "2hruussvbNHC",
        "colab_type": "code",
        "colab": {
          "base_uri": "https://localhost:8080/",
          "height": 1000
        },
        "outputId": "28316a5b-3685-4844-94b8-4bc1ac7edfbf"
      },
      "source": [
        "Custom_CNN_Model_2 = model.fit(\n",
        "    train_data_gen,\n",
        "    steps_per_epoch=total_train // batch_size,\n",
        "    epochs=epochs,\n",
        "    validation_data=val_data_gen,\n",
        "    validation_steps=total_val // batch_size\n",
        ")"
      ],
      "execution_count": null,
      "outputs": [
        {
          "output_type": "stream",
          "text": [
            "Epoch 1/50\n",
            "32/32 [==============================] - 9s 268ms/step - loss: nan - accuracy: 0.5070 - val_loss: nan - val_accuracy: 0.3295\n",
            "Epoch 2/50\n",
            "32/32 [==============================] - 8s 249ms/step - loss: nan - accuracy: 0.5150 - val_loss: nan - val_accuracy: 0.3466\n",
            "Epoch 3/50\n",
            "32/32 [==============================] - 8s 254ms/step - loss: nan - accuracy: 0.5210 - val_loss: nan - val_accuracy: 0.3466\n",
            "Epoch 4/50\n",
            "32/32 [==============================] - 8s 256ms/step - loss: nan - accuracy: 0.5150 - val_loss: nan - val_accuracy: 0.3466\n",
            "Epoch 5/50\n",
            "32/32 [==============================] - 8s 252ms/step - loss: nan - accuracy: 0.5210 - val_loss: nan - val_accuracy: 0.3580\n",
            "Epoch 6/50\n",
            "32/32 [==============================] - 8s 252ms/step - loss: nan - accuracy: 0.5090 - val_loss: nan - val_accuracy: 0.3580\n",
            "Epoch 7/50\n",
            "32/32 [==============================] - 8s 250ms/step - loss: nan - accuracy: 0.5150 - val_loss: nan - val_accuracy: 0.3523\n",
            "Epoch 8/50\n",
            "32/32 [==============================] - 8s 252ms/step - loss: nan - accuracy: 0.5190 - val_loss: nan - val_accuracy: 0.3466\n",
            "Epoch 9/50\n",
            "32/32 [==============================] - 8s 251ms/step - loss: nan - accuracy: 0.5230 - val_loss: nan - val_accuracy: 0.3352\n",
            "Epoch 10/50\n",
            "32/32 [==============================] - 8s 249ms/step - loss: nan - accuracy: 0.5150 - val_loss: nan - val_accuracy: 0.3409\n",
            "Epoch 11/50\n",
            "32/32 [==============================] - 8s 254ms/step - loss: nan - accuracy: 0.5070 - val_loss: nan - val_accuracy: 0.3466\n",
            "Epoch 12/50\n",
            "32/32 [==============================] - 8s 251ms/step - loss: nan - accuracy: 0.5210 - val_loss: nan - val_accuracy: 0.3580\n",
            "Epoch 13/50\n",
            "32/32 [==============================] - 8s 251ms/step - loss: nan - accuracy: 0.5130 - val_loss: nan - val_accuracy: 0.3523\n",
            "Epoch 14/50\n",
            "32/32 [==============================] - 8s 249ms/step - loss: nan - accuracy: 0.5170 - val_loss: nan - val_accuracy: 0.3636\n",
            "Epoch 15/50\n",
            "32/32 [==============================] - 8s 258ms/step - loss: nan - accuracy: 0.5098 - val_loss: nan - val_accuracy: 0.3409\n",
            "Epoch 16/50\n",
            "32/32 [==============================] - 8s 252ms/step - loss: nan - accuracy: 0.5190 - val_loss: nan - val_accuracy: 0.3295\n",
            "Epoch 17/50\n",
            "32/32 [==============================] - 8s 251ms/step - loss: nan - accuracy: 0.5070 - val_loss: nan - val_accuracy: 0.3580\n",
            "Epoch 18/50\n",
            "32/32 [==============================] - 8s 258ms/step - loss: nan - accuracy: 0.5137 - val_loss: nan - val_accuracy: 0.3352\n",
            "Epoch 19/50\n",
            "32/32 [==============================] - 8s 252ms/step - loss: nan - accuracy: 0.5110 - val_loss: nan - val_accuracy: 0.3523\n",
            "Epoch 20/50\n",
            "32/32 [==============================] - 8s 252ms/step - loss: nan - accuracy: 0.5170 - val_loss: nan - val_accuracy: 0.3523\n",
            "Epoch 21/50\n",
            "32/32 [==============================] - 8s 251ms/step - loss: nan - accuracy: 0.5130 - val_loss: nan - val_accuracy: 0.3352\n",
            "Epoch 22/50\n",
            "32/32 [==============================] - 8s 251ms/step - loss: nan - accuracy: 0.5130 - val_loss: nan - val_accuracy: 0.3409\n",
            "Epoch 23/50\n",
            "32/32 [==============================] - 8s 252ms/step - loss: nan - accuracy: 0.5250 - val_loss: nan - val_accuracy: 0.3295\n",
            "Epoch 24/50\n",
            "32/32 [==============================] - 8s 251ms/step - loss: nan - accuracy: 0.5170 - val_loss: nan - val_accuracy: 0.3466\n",
            "Epoch 25/50\n",
            "32/32 [==============================] - 8s 254ms/step - loss: nan - accuracy: 0.5210 - val_loss: nan - val_accuracy: 0.3523\n",
            "Epoch 26/50\n",
            "32/32 [==============================] - 8s 254ms/step - loss: nan - accuracy: 0.5110 - val_loss: nan - val_accuracy: 0.3466\n",
            "Epoch 27/50\n",
            "32/32 [==============================] - 8s 253ms/step - loss: nan - accuracy: 0.5110 - val_loss: nan - val_accuracy: 0.3466\n",
            "Epoch 28/50\n",
            "32/32 [==============================] - 8s 252ms/step - loss: nan - accuracy: 0.5170 - val_loss: nan - val_accuracy: 0.3352\n",
            "Epoch 29/50\n",
            "32/32 [==============================] - 8s 251ms/step - loss: nan - accuracy: 0.5170 - val_loss: nan - val_accuracy: 0.3409\n",
            "Epoch 30/50\n",
            "32/32 [==============================] - 8s 255ms/step - loss: nan - accuracy: 0.5110 - val_loss: nan - val_accuracy: 0.3352\n",
            "Epoch 31/50\n",
            "32/32 [==============================] - 8s 252ms/step - loss: nan - accuracy: 0.5230 - val_loss: nan - val_accuracy: 0.3352\n",
            "Epoch 32/50\n",
            "32/32 [==============================] - 8s 251ms/step - loss: nan - accuracy: 0.5210 - val_loss: nan - val_accuracy: 0.3466\n",
            "Epoch 33/50\n",
            "32/32 [==============================] - 8s 253ms/step - loss: nan - accuracy: 0.5190 - val_loss: nan - val_accuracy: 0.3466\n",
            "Epoch 34/50\n",
            "32/32 [==============================] - 8s 253ms/step - loss: nan - accuracy: 0.5050 - val_loss: nan - val_accuracy: 0.3409\n",
            "Epoch 35/50\n",
            "32/32 [==============================] - 8s 257ms/step - loss: nan - accuracy: 0.5170 - val_loss: nan - val_accuracy: 0.3466\n",
            "Epoch 36/50\n",
            "32/32 [==============================] - 8s 252ms/step - loss: nan - accuracy: 0.5110 - val_loss: nan - val_accuracy: 0.3182\n",
            "Epoch 37/50\n",
            "18/32 [===============>..............] - ETA: 2s - loss: nan - accuracy: 0.4910"
          ],
          "name": "stdout"
        }
      ]
    },
    {
      "cell_type": "markdown",
      "metadata": {
        "colab_type": "text",
        "id": "uT3UV3gap9H6"
      },
      "source": [
        "# Resources and Stretch Goals\n",
        "\n",
        "Stretch goals\n",
        "- Enhance your code to use classes/functions and accept terms to search and classes to look for in recognizing the downloaded images (e.g. download images of parties, recognize all that contain balloons)\n",
        "- Check out [other available pretrained networks](https://tfhub.dev), try some and compare\n",
        "- Image recognition/classification is somewhat solved, but *relationships* between entities and describing an image is not - check out some of the extended resources (e.g. [Visual Genome](https://visualgenome.org/)) on the topic\n",
        "- Transfer learning - using images you source yourself, [retrain a classifier](https://www.tensorflow.org/hub/tutorials/image_retraining) with a new category\n",
        "- (Not CNN related) Use [piexif](https://pypi.org/project/piexif/) to check out the metadata of images passed in to your system - see if they're from a national park! (Note - many images lack GPS metadata, so this won't work in most cases, but still cool)\n",
        "\n",
        "Resources\n",
        "- [Deep Residual Learning for Image Recognition](https://arxiv.org/abs/1512.03385) - influential paper (introduced ResNet)\n",
        "- [YOLO: Real-Time Object Detection](https://pjreddie.com/darknet/yolo/) - an influential convolution based object detection system, focused on inference speed (for applications to e.g. self driving vehicles)\n",
        "- [R-CNN, Fast R-CNN, Faster R-CNN, YOLO](https://towardsdatascience.com/r-cnn-fast-r-cnn-faster-r-cnn-yolo-object-detection-algorithms-36d53571365e) - comparison of object detection systems\n",
        "- [Common Objects in Context](http://cocodataset.org/) - a large-scale object detection, segmentation, and captioning dataset\n",
        "- [Visual Genome](https://visualgenome.org/) - a dataset, a knowledge base, an ongoing effort to connect structured image concepts to language"
      ]
    }
  ]
}